{
  "nbformat": 4,
  "nbformat_minor": 0,
  "metadata": {
    "colab": {
      "name": "resnet_mri.ipynb",
      "provenance": [],
      "collapsed_sections": []
    },
    "kernelspec": {
      "name": "python3",
      "display_name": "Python 3"
    },
    "accelerator": "GPU"
  },
  "cells": [
    {
      "cell_type": "code",
      "metadata": {
        "id": "-8UDK1EMYobC",
        "colab_type": "code",
        "outputId": "32a246e0-a17c-4ac8-c1c0-54435dd4301d",
        "colab": {
          "base_uri": "https://localhost:8080/",
          "height": 899
        }
      },
      "source": [
        "# https://towardsdatascience.com/deep-learning-using-transfer-learning-python-code-for-resnet50-8acdfb3a2d38\n",
        "import glob\n",
        "import numpy as np\n",
        "import pandas as pd\n",
        "import os\n",
        "import shutil \n",
        "import matplotlib.pyplot as plt\n",
        "from tensorflow.keras.preprocessing.image import ImageDataGenerator, load_img, img_to_array, array_to_img\n",
        "from sklearn.preprocessing import LabelEncoder \n",
        "import tensorflow as tf\n",
        "from tensorflow.python.keras.applications import vgg16\n",
        "from tensorflow.python.keras.optimizers import SGD\n",
        "from tensorflow.keras import datasets\n",
        "from keras_preprocessing.image import ImageDataGenerator\n",
        "import numpy as np\n",
        "\n",
        "IMG_WIDTH=300\n",
        "IMG_HEIGHT=300\n",
        "BATCH_SIZE = 64\n",
        "IMG_DIM = (IMG_WIDTH, IMG_HEIGHT)\n",
        "\n",
        "train_files = glob.glob('/content/drive/My Drive/ML Project/Brian/MRI_DB/train/*') \n",
        "train_imgs = [img_to_array(load_img(img, target_size=IMG_DIM)) for img in train_files]\n",
        "train_imgs = np.array(train_imgs)\n",
        "train_labels = [fn.split('/')[-1].split('.')[0].strip() for fn in train_files]\n",
        "\n",
        "validation_files = glob.glob('/content/drive/My Drive/ML Project/Brian/MRI_DB/test/*')\n",
        "validation_imgs = [img_to_array(load_img(img, target_size=IMG_DIM)) for img in validation_files]\n",
        "validation_imgs = np.array(validation_imgs)\n",
        "validation_labels = [fn.split('/')[-1].split('.')[0].strip() for fn in validation_files]\n",
        "\n",
        "# encode text category labels  \n",
        "le = LabelEncoder() \n",
        "le.fit(train_labels) \n",
        "train_labels_enc = le.transform(train_labels) \n",
        "validation_labels_enc = le.transform(validation_labels) \n",
        " \n",
        "train_datagen = ImageDataGenerator(rescale=1./255, zoom_range=0.3, rotation_range=50,\n",
        "                                  width_shift_range=0.2, height_shift_range=0.2, shear_range=0.2, \n",
        "                                  horizontal_flip=True, fill_mode='nearest')\n",
        "val_datagen = ImageDataGenerator(rescale=1./255)\n",
        "\n",
        "train_generator = train_datagen.flow(train_imgs, train_labels_enc,batch_size=30)\n",
        "val_generator = val_datagen.flow(validation_imgs, validation_labels_enc, batch_size=30)\n",
        "\n",
        "IMG_SHAPE = (IMG_WIDTH,IMG_WIDTH,3)\n",
        "VGG16_MODEL = vgg16.VGG16(input_shape=IMG_SHAPE,\n",
        "                        include_top=False,\n",
        "                        weights='imagenet')\n",
        "VGG16_MODEL.summary()\n",
        "\n",
        "VGG16_MODEL.trainable=False\n",
        "global_average_layer = tf.keras.layers.GlobalAveragePooling2D()\n",
        "prediction_layer = tf.keras.layers.Dense(2,activation='softmax')\n",
        "  \n",
        "model = tf.keras.Sequential([\n",
        "  VGG16_MODEL,\n",
        "  global_average_layer,\n",
        "  prediction_layer\n",
        "])\n",
        "\n",
        "model.compile(optimizer=tf.compat.v1.train.AdamOptimizer(learning_rate=0.01), \n",
        "              loss=tf.keras.losses.sparse_categorical_crossentropy,\n",
        "              metrics=[\"accuracy\"])\n",
        "\n",
        "history = model.fit(train_generator,\n",
        "                    epochs=100, \n",
        "                    steps_per_epoch=20,                    \n",
        "                    validation_data=val_generator,\n",
        "                    shuffle=True, verbose=1)"
      ],
      "execution_count": 0,
      "outputs": [
        {
          "output_type": "stream",
          "text": [
            "Model: \"vgg16\"\n",
            "_________________________________________________________________\n",
            "Layer (type)                 Output Shape              Param #   \n",
            "=================================================================\n",
            "input_1 (InputLayer)         [(None, 300, 300, 3)]     0         \n",
            "_________________________________________________________________\n",
            "block1_conv1 (Conv2D)        (None, 300, 300, 64)      1792      \n",
            "_________________________________________________________________\n",
            "block1_conv2 (Conv2D)        (None, 300, 300, 64)      36928     \n",
            "_________________________________________________________________\n",
            "block1_pool (MaxPooling2D)   (None, 150, 150, 64)      0         \n",
            "_________________________________________________________________\n",
            "block2_conv1 (Conv2D)        (None, 150, 150, 128)     73856     \n",
            "_________________________________________________________________\n",
            "block2_conv2 (Conv2D)        (None, 150, 150, 128)     147584    \n",
            "_________________________________________________________________\n",
            "block2_pool (MaxPooling2D)   (None, 75, 75, 128)       0         \n",
            "_________________________________________________________________\n",
            "block3_conv1 (Conv2D)        (None, 75, 75, 256)       295168    \n",
            "_________________________________________________________________\n",
            "block3_conv2 (Conv2D)        (None, 75, 75, 256)       590080    \n",
            "_________________________________________________________________\n",
            "block3_conv3 (Conv2D)        (None, 75, 75, 256)       590080    \n",
            "_________________________________________________________________\n",
            "block3_pool (MaxPooling2D)   (None, 37, 37, 256)       0         \n",
            "_________________________________________________________________\n",
            "block4_conv1 (Conv2D)        (None, 37, 37, 512)       1180160   \n",
            "_________________________________________________________________\n",
            "block4_conv2 (Conv2D)        (None, 37, 37, 512)       2359808   \n",
            "_________________________________________________________________\n",
            "block4_conv3 (Conv2D)        (None, 37, 37, 512)       2359808   \n",
            "_________________________________________________________________\n",
            "block4_pool (MaxPooling2D)   (None, 18, 18, 512)       0         \n",
            "_________________________________________________________________\n",
            "block5_conv1 (Conv2D)        (None, 18, 18, 512)       2359808   \n",
            "_________________________________________________________________\n",
            "block5_conv2 (Conv2D)        (None, 18, 18, 512)       2359808   \n",
            "_________________________________________________________________\n",
            "block5_conv3 (Conv2D)        (None, 18, 18, 512)       2359808   \n",
            "_________________________________________________________________\n",
            "block5_pool (MaxPooling2D)   (None, 9, 9, 512)         0         \n",
            "=================================================================\n",
            "Total params: 14,714,688\n",
            "Trainable params: 14,714,688\n",
            "Non-trainable params: 0\n",
            "_________________________________________________________________\n",
            "Epoch 1/100\n",
            "20/20 [==============================] - ETA: 0s - loss: 0.7157 - accuracy: 0.5554"
          ],
          "name": "stdout"
        }
      ]
    },
    {
      "cell_type": "code",
      "metadata": {
        "id": "13L9x83eyblw",
        "colab_type": "code",
        "outputId": "3af64bcf-f73d-4d1a-f2ef-96ac0084dd01",
        "colab": {
          "base_uri": "https://localhost:8080/",
          "height": 55
        }
      },
      "source": [
        "from google.colab import drive\n",
        "drive.mount('/content/drive')"
      ],
      "execution_count": 0,
      "outputs": [
        {
          "output_type": "stream",
          "text": [
            "Drive already mounted at /content/drive; to attempt to forcibly remount, call drive.mount(\"/content/drive\", force_remount=True).\n"
          ],
          "name": "stdout"
        }
      ]
    }
  ]
}