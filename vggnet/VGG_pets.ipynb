{
  "nbformat": 4,
  "nbformat_minor": 0,
  "metadata": {
    "colab": {
      "name": "resnet_pets.ipynb",
      "provenance": [],
      "collapsed_sections": [],
      "machine_shape": "hm"
    },
    "kernelspec": {
      "name": "python3",
      "display_name": "Python 3"
    },
    "accelerator": "GPU"
  },
  "cells": [
    {
      "cell_type": "code",
      "metadata": {
        "id": "JLykwB6ghuGT",
        "colab_type": "code",
        "outputId": "01c92e54-9257-4746-9ca5-dcd7d3eec90c",
        "colab": {
          "base_uri": "https://localhost:8080/",
          "height": 92
        }
      },
      "source": [
        "import keras\n",
        "import numpy as np\n",
        "from keras.applications import resnet50\n",
        "from keras.preprocessing.image import load_img\n",
        "from keras.preprocessing.image import img_to_array\n",
        "from keras.applications.imagenet_utils import decode_predictions\n",
        "import matplotlib.pyplot as plt\n",
        "import numpy as np\n",
        "%matplotlib inline\n",
        "\n",
        "resnet_model = resnet50.ResNet50(weights='imagenet')"
      ],
      "execution_count": 0,
      "outputs": [
        {
          "output_type": "stream",
          "text": [
            "Using TensorFlow backend.\n"
          ],
          "name": "stderr"
        },
        {
          "output_type": "stream",
          "text": [
            "Downloading data from https://github.com/fchollet/deep-learning-models/releases/download/v0.2/resnet50_weights_tf_dim_ordering_tf_kernels.h5\n",
            "102858752/102853048 [==============================] - 1s 0us/step\n"
          ],
          "name": "stdout"
        }
      ]
    },
    {
      "cell_type": "code",
      "metadata": {
        "id": "0e45GOo8h2Lv",
        "colab_type": "code",
        "colab": {}
      },
      "source": [
        "import glob\n",
        "import numpy as np\n",
        "import pandas as pd\n",
        "import os\n",
        "import shutil \n",
        "import matplotlib.pyplot as plt\n",
        "from keras.preprocessing.image import ImageDataGenerator, load_img, img_to_array, array_to_img"
      ],
      "execution_count": 0,
      "outputs": []
    },
    {
      "cell_type": "code",
      "metadata": {
        "id": "6Sxy1BH0h4Vu",
        "colab_type": "code",
        "outputId": "e38c5f89-1fe2-47bd-ac97-3ac7913969a1",
        "colab": {
          "base_uri": "https://localhost:8080/",
          "height": 35
        }
      },
      "source": [
        "IMG_WIDTH=300\n",
        "IMG_HEIGHT=300\n",
        "IMG_DIM = (IMG_WIDTH, IMG_HEIGHT)\n",
        "\n",
        "validation_files = glob.glob('/content/drive/My Drive/ML Project/Brian/pets/test/*')\n",
        "validation_imgs = [img_to_array(load_img(img, target_size=IMG_DIM)) for img in validation_files]\n",
        "validation_imgs = np.array(validation_imgs)\n",
        "validation_labels = [fn.split('/')[-1].split('.')[0].strip() for fn in validation_files]\n",
        "\n",
        "train_files = glob.glob('/content/drive/My Drive/ML Project/Brian/pets/train/*') \n",
        "train_imgs = [img_to_array(load_img(img, target_size=IMG_DIM)) for img in train_files]\n",
        "train_imgs = np.array(train_imgs)\n",
        "train_labels = [fn.split('/')[-1].split('.')[0].strip() for fn in train_files]\n",
        "\n",
        "\n",
        "print('Train dataset shape:', train_imgs.shape, \n",
        " '\\tValidation dataset shape:', validation_imgs.shape)"
      ],
      "execution_count": 0,
      "outputs": [
        {
          "output_type": "stream",
          "text": [
            "Train dataset shape: (5900, 300, 300, 3) \tValidation dataset shape: (1463, 300, 300, 3)\n"
          ],
          "name": "stdout"
        }
      ]
    },
    {
      "cell_type": "code",
      "metadata": {
        "id": "vftn54u-iUAF",
        "colab_type": "code",
        "colab": {}
      },
      "source": [
        "train_imgs_scaled = train_imgs.astype('float32') \n",
        "validation_imgs_scaled = validation_imgs.astype('float32') \n",
        "train_imgs_scaled /= 255 \n",
        "validation_imgs_scaled /= 255 "
      ],
      "execution_count": 0,
      "outputs": []
    },
    {
      "cell_type": "code",
      "metadata": {
        "id": "05CNQKieiZ4w",
        "colab_type": "code",
        "outputId": "d9dcf5d4-0671-4702-d51f-9735405e1ab4",
        "colab": {
          "base_uri": "https://localhost:8080/",
          "height": 398
        }
      },
      "source": [
        "# encode text category labels \n",
        "from sklearn.preprocessing import LabelEncoder \n",
        " \n",
        "le = LabelEncoder() \n",
        "le.fit(train_labels) \n",
        "train_labels_enc = le.transform(train_labels) \n",
        "validation_labels_enc = le.transform(validation_labels) \n",
        " \n",
        "\n",
        "\n",
        "NUM_CLASSES = 37\n",
        "train_labels = keras.utils.to_categorical(train_labels_enc, NUM_CLASSES)\n",
        "validation_labels = keras.utils.to_categorical(validation_labels_enc, NUM_CLASSES)\n",
        "#print(train_labels[60:70], train_labels_enc[60:70])"
      ],
      "execution_count": 0,
      "outputs": [
        {
          "output_type": "error",
          "ename": "ValueError",
          "evalue": "ignored",
          "traceback": [
            "\u001b[0;31m---------------------------------------------------------------------------\u001b[0m",
            "\u001b[0;31mValueError\u001b[0m                                Traceback (most recent call last)",
            "\u001b[0;32m<ipython-input-12-6ce28a6065b4>\u001b[0m in \u001b[0;36m<module>\u001b[0;34m()\u001b[0m\n\u001b[1;32m      2\u001b[0m \u001b[0;34m\u001b[0m\u001b[0m\n\u001b[1;32m      3\u001b[0m \u001b[0mle\u001b[0m \u001b[0;34m=\u001b[0m \u001b[0mLabelEncoder\u001b[0m\u001b[0;34m(\u001b[0m\u001b[0;34m)\u001b[0m\u001b[0;34m\u001b[0m\u001b[0;34m\u001b[0m\u001b[0m\n\u001b[0;32m----> 4\u001b[0;31m \u001b[0mle\u001b[0m\u001b[0;34m.\u001b[0m\u001b[0mfit\u001b[0m\u001b[0;34m(\u001b[0m\u001b[0mtrain_labels\u001b[0m\u001b[0;34m)\u001b[0m\u001b[0;34m\u001b[0m\u001b[0;34m\u001b[0m\u001b[0m\n\u001b[0m\u001b[1;32m      5\u001b[0m \u001b[0mtrain_labels_enc\u001b[0m \u001b[0;34m=\u001b[0m \u001b[0mle\u001b[0m\u001b[0;34m.\u001b[0m\u001b[0mtransform\u001b[0m\u001b[0;34m(\u001b[0m\u001b[0mtrain_labels\u001b[0m\u001b[0;34m)\u001b[0m\u001b[0;34m\u001b[0m\u001b[0;34m\u001b[0m\u001b[0m\n\u001b[1;32m      6\u001b[0m \u001b[0mvalidation_labels_enc\u001b[0m \u001b[0;34m=\u001b[0m \u001b[0mle\u001b[0m\u001b[0;34m.\u001b[0m\u001b[0mtransform\u001b[0m\u001b[0;34m(\u001b[0m\u001b[0mvalidation_labels\u001b[0m\u001b[0;34m)\u001b[0m\u001b[0;34m\u001b[0m\u001b[0;34m\u001b[0m\u001b[0m\n",
            "\u001b[0;32m/usr/local/lib/python3.6/dist-packages/sklearn/preprocessing/_label.py\u001b[0m in \u001b[0;36mfit\u001b[0;34m(self, y)\u001b[0m\n\u001b[1;32m    233\u001b[0m         \u001b[0mself\u001b[0m \u001b[0;34m:\u001b[0m \u001b[0mreturns\u001b[0m \u001b[0man\u001b[0m \u001b[0minstance\u001b[0m \u001b[0mof\u001b[0m \u001b[0mself\u001b[0m\u001b[0;34m.\u001b[0m\u001b[0;34m\u001b[0m\u001b[0;34m\u001b[0m\u001b[0m\n\u001b[1;32m    234\u001b[0m         \"\"\"\n\u001b[0;32m--> 235\u001b[0;31m         \u001b[0my\u001b[0m \u001b[0;34m=\u001b[0m \u001b[0mcolumn_or_1d\u001b[0m\u001b[0;34m(\u001b[0m\u001b[0my\u001b[0m\u001b[0;34m,\u001b[0m \u001b[0mwarn\u001b[0m\u001b[0;34m=\u001b[0m\u001b[0;32mTrue\u001b[0m\u001b[0;34m)\u001b[0m\u001b[0;34m\u001b[0m\u001b[0;34m\u001b[0m\u001b[0m\n\u001b[0m\u001b[1;32m    236\u001b[0m         \u001b[0mself\u001b[0m\u001b[0;34m.\u001b[0m\u001b[0mclasses_\u001b[0m \u001b[0;34m=\u001b[0m \u001b[0m_encode\u001b[0m\u001b[0;34m(\u001b[0m\u001b[0my\u001b[0m\u001b[0;34m)\u001b[0m\u001b[0;34m\u001b[0m\u001b[0;34m\u001b[0m\u001b[0m\n\u001b[1;32m    237\u001b[0m         \u001b[0;32mreturn\u001b[0m \u001b[0mself\u001b[0m\u001b[0;34m\u001b[0m\u001b[0;34m\u001b[0m\u001b[0m\n",
            "\u001b[0;32m/usr/local/lib/python3.6/dist-packages/sklearn/utils/validation.py\u001b[0m in \u001b[0;36mcolumn_or_1d\u001b[0;34m(y, warn)\u001b[0m\n\u001b[1;32m    795\u001b[0m         \u001b[0;32mreturn\u001b[0m \u001b[0mnp\u001b[0m\u001b[0;34m.\u001b[0m\u001b[0mravel\u001b[0m\u001b[0;34m(\u001b[0m\u001b[0my\u001b[0m\u001b[0;34m)\u001b[0m\u001b[0;34m\u001b[0m\u001b[0;34m\u001b[0m\u001b[0m\n\u001b[1;32m    796\u001b[0m \u001b[0;34m\u001b[0m\u001b[0m\n\u001b[0;32m--> 797\u001b[0;31m     \u001b[0;32mraise\u001b[0m \u001b[0mValueError\u001b[0m\u001b[0;34m(\u001b[0m\u001b[0;34m\"bad input shape {0}\"\u001b[0m\u001b[0;34m.\u001b[0m\u001b[0mformat\u001b[0m\u001b[0;34m(\u001b[0m\u001b[0mshape\u001b[0m\u001b[0;34m)\u001b[0m\u001b[0;34m)\u001b[0m\u001b[0;34m\u001b[0m\u001b[0;34m\u001b[0m\u001b[0m\n\u001b[0m\u001b[1;32m    798\u001b[0m \u001b[0;34m\u001b[0m\u001b[0m\n\u001b[1;32m    799\u001b[0m \u001b[0;34m\u001b[0m\u001b[0m\n",
            "\u001b[0;31mValueError\u001b[0m: bad input shape (5900, 37)"
          ]
        }
      ]
    },
    {
      "cell_type": "code",
      "metadata": {
        "id": "GV7OTcKYicHm",
        "colab_type": "code",
        "colab": {}
      },
      "source": [
        "train_datagen = ImageDataGenerator(rescale=1./255, zoom_range=0.3, rotation_range=50,\n",
        " width_shift_range=0.2, height_shift_range=0.2, shear_range=0.2, \n",
        " horizontal_flip=True, fill_mode='nearest')\n",
        "val_datagen = ImageDataGenerator(rescale=1./255)"
      ],
      "execution_count": 0,
      "outputs": []
    },
    {
      "cell_type": "code",
      "metadata": {
        "id": "mW1ZYhVxih9l",
        "colab_type": "code",
        "colab": {}
      },
      "source": [
        "train_generator = train_datagen.flow(train_imgs, train_labels,batch_size=30)\n",
        "val_generator = val_datagen.flow(validation_imgs, validation_labels, batch_size=30)"
      ],
      "execution_count": 0,
      "outputs": []
    },
    {
      "cell_type": "code",
      "metadata": {
        "id": "9KeUuteJikJA",
        "colab_type": "code",
        "outputId": "ae349de1-930e-4041-aa41-0f189fcc3805",
        "colab": {
          "base_uri": "https://localhost:8080/",
          "height": 74
        }
      },
      "source": [
        "from keras.applications.resnet50 import ResNet50\n",
        "from keras.applications import vgg16\n",
        "from keras.models import Model\n",
        "import keras\n",
        "VGG16_MODEL = vgg16.VGG16(include_top=False, weights='imagenet', input_shape=(IMG_HEIGHT,IMG_WIDTH,3))\n",
        "output = VGG16_MODEL.layers[-1].output\n",
        "output = keras.layers.Flatten()(output)\n",
        "VGG16_MODEL = Model(VGG16_MODEL.input, output=output)\n",
        "for layer in VGG16_MODEL.layers:\n",
        "    layer.trainable = False\n",
        "#VGG16_MODEL.summary()"
      ],
      "execution_count": 0,
      "outputs": [
        {
          "output_type": "stream",
          "text": [
            "/usr/local/lib/python3.6/dist-packages/ipykernel_launcher.py:8: UserWarning: Update your `Model` call to the Keras 2 API: `Model(Tensor(\"in..., outputs=Tensor(\"fl...)`\n",
            "  \n"
          ],
          "name": "stderr"
        }
      ]
    },
    {
      "cell_type": "code",
      "metadata": {
        "id": "_hx2lUlNimTt",
        "colab_type": "code",
        "outputId": "5d509d0d-7d20-4908-b9f4-040ff85a1082",
        "colab": {
          "base_uri": "https://localhost:8080/",
          "height": 384
        }
      },
      "source": [
        "from keras.layers import Conv2D, MaxPooling2D, Flatten, Dense, Dropout, InputLayer\n",
        "from keras.models import Sequential\n",
        "from keras import optimizers\n",
        "model = Sequential()\n",
        "model.add(VGG16_MODEL)\n",
        "model.add(Dense(512, activation='relu'))\n",
        "model.add(Dropout(0.3))\n",
        "model.add(Dense(512, activation='relu'))\n",
        "model.add(Dropout(0.3))\n",
        "model.add(Dense(37, activation='softmax'))\n",
        "\n",
        "opt=optimizers.RMSprop(lr=2e-5)\n",
        "model.compile(loss='categorical_crossentropy',\n",
        "              optimizer='adam',\n",
        "              metrics=['accuracy'])\n",
        "model.summary()"
      ],
      "execution_count": 0,
      "outputs": [
        {
          "output_type": "stream",
          "text": [
            "Model: \"sequential_3\"\n",
            "_________________________________________________________________\n",
            "Layer (type)                 Output Shape              Param #   \n",
            "=================================================================\n",
            "model_2 (Model)              (None, 41472)             14714688  \n",
            "_________________________________________________________________\n",
            "dense_1 (Dense)              (None, 512)               21234176  \n",
            "_________________________________________________________________\n",
            "dropout_1 (Dropout)          (None, 512)               0         \n",
            "_________________________________________________________________\n",
            "dense_2 (Dense)              (None, 512)               262656    \n",
            "_________________________________________________________________\n",
            "dropout_2 (Dropout)          (None, 512)               0         \n",
            "_________________________________________________________________\n",
            "dense_3 (Dense)              (None, 37)                18981     \n",
            "=================================================================\n",
            "Total params: 36,230,501\n",
            "Trainable params: 21,515,813\n",
            "Non-trainable params: 14,714,688\n",
            "_________________________________________________________________\n"
          ],
          "name": "stdout"
        }
      ]
    },
    {
      "cell_type": "code",
      "metadata": {
        "id": "3qVGvTpiioX_",
        "colab_type": "code",
        "outputId": "b967439c-48ad-4640-95f0-502009c45293",
        "colab": {
          "base_uri": "https://localhost:8080/",
          "height": 790
        }
      },
      "source": [
        "#history = model.fit_generator(train_generator, \n",
        "#                              steps_per_epoch=20, \n",
        "#                              epochs=20,\n",
        "#                              validation_data=val_generator, \n",
        "#                              validation_steps=10, \n",
        "#                              verbose=1)\n",
        "\n",
        "\n",
        "history = model.fit(train_imgs_scaled, train_labels,\n",
        "                    epochs=20, \n",
        "                    batch_size=128,\n",
        "                    validation_data=(validation_imgs_scaled, validation_labels),\n",
        "                    shuffle=True,verbose=1)"
      ],
      "execution_count": 0,
      "outputs": [
        {
          "output_type": "stream",
          "text": [
            "Train on 5900 samples, validate on 1463 samples\n",
            "Epoch 1/20\n",
            "5900/5900 [==============================] - 34s 6ms/step - loss: 2.7762 - accuracy: 0.1595 - val_loss: 2.3128 - val_accuracy: 0.2850\n",
            "Epoch 2/20\n",
            "5900/5900 [==============================] - 34s 6ms/step - loss: 2.4327 - accuracy: 0.2312 - val_loss: 2.0147 - val_accuracy: 0.3718\n",
            "Epoch 3/20\n",
            "5900/5900 [==============================] - 34s 6ms/step - loss: 2.1614 - accuracy: 0.3005 - val_loss: 1.9504 - val_accuracy: 0.3794\n",
            "Epoch 4/20\n",
            "5900/5900 [==============================] - 34s 6ms/step - loss: 1.9663 - accuracy: 0.3536 - val_loss: 1.8260 - val_accuracy: 0.4272\n",
            "Epoch 5/20\n",
            "5900/5900 [==============================] - 34s 6ms/step - loss: 1.8018 - accuracy: 0.4034 - val_loss: 1.8036 - val_accuracy: 0.4238\n",
            "Epoch 6/20\n",
            "5900/5900 [==============================] - 34s 6ms/step - loss: 1.6185 - accuracy: 0.4659 - val_loss: 1.7446 - val_accuracy: 0.4511\n",
            "Epoch 7/20\n",
            "5900/5900 [==============================] - 34s 6ms/step - loss: 1.5006 - accuracy: 0.4942 - val_loss: 1.7685 - val_accuracy: 0.4361\n",
            "Epoch 8/20\n",
            "5900/5900 [==============================] - 35s 6ms/step - loss: 1.4369 - accuracy: 0.5159 - val_loss: 1.8783 - val_accuracy: 0.4074\n",
            "Epoch 9/20\n",
            "5900/5900 [==============================] - 35s 6ms/step - loss: 1.4263 - accuracy: 0.5164 - val_loss: 1.7405 - val_accuracy: 0.4498\n",
            "Epoch 10/20\n",
            "5900/5900 [==============================] - 35s 6ms/step - loss: 1.2664 - accuracy: 0.5717 - val_loss: 1.6639 - val_accuracy: 0.4778\n",
            "Epoch 11/20\n",
            "5900/5900 [==============================] - 35s 6ms/step - loss: 1.1651 - accuracy: 0.6058 - val_loss: 1.7106 - val_accuracy: 0.4710\n",
            "Epoch 12/20\n",
            "5900/5900 [==============================] - 35s 6ms/step - loss: 1.1311 - accuracy: 0.6141 - val_loss: 1.7536 - val_accuracy: 0.4607\n",
            "Epoch 13/20\n",
            "5900/5900 [==============================] - 35s 6ms/step - loss: 1.1168 - accuracy: 0.6239 - val_loss: 1.6929 - val_accuracy: 0.4778\n",
            "Epoch 14/20\n",
            "5900/5900 [==============================] - 35s 6ms/step - loss: 1.0056 - accuracy: 0.6693 - val_loss: 1.7739 - val_accuracy: 0.4730\n",
            "Epoch 15/20\n",
            "5900/5900 [==============================] - 35s 6ms/step - loss: 0.9873 - accuracy: 0.6651 - val_loss: 1.7133 - val_accuracy: 0.4860\n",
            "Epoch 16/20\n",
            "5900/5900 [==============================] - 35s 6ms/step - loss: 0.9666 - accuracy: 0.6736 - val_loss: 1.8081 - val_accuracy: 0.4470\n",
            "Epoch 17/20\n",
            "5900/5900 [==============================] - 35s 6ms/step - loss: 0.9097 - accuracy: 0.7000 - val_loss: 1.7901 - val_accuracy: 0.4525\n",
            "Epoch 18/20\n",
            "5900/5900 [==============================] - 35s 6ms/step - loss: 0.8680 - accuracy: 0.7083 - val_loss: 1.7772 - val_accuracy: 0.4785\n",
            "Epoch 19/20\n",
            "5900/5900 [==============================] - 35s 6ms/step - loss: 0.8106 - accuracy: 0.7292 - val_loss: 1.7143 - val_accuracy: 0.5065\n",
            "Epoch 20/20\n",
            "5900/5900 [==============================] - 35s 6ms/step - loss: 0.8256 - accuracy: 0.7168 - val_loss: 2.0041 - val_accuracy: 0.4368\n"
          ],
          "name": "stdout"
        }
      ]
    },
    {
      "cell_type": "code",
      "metadata": {
        "id": "94ZSQHz7DRx0",
        "colab_type": "code",
        "colab": {}
      },
      "source": [
        "print(train_imgs_scaled.shape)\n",
        "print(train_labels.shape)\n",
        "print(validation_imgs_scaled.shape)\n",
        "print(validation_labels.shape)"
      ],
      "execution_count": 0,
      "outputs": []
    },
    {
      "cell_type": "code",
      "metadata": {
        "id": "do0n8asmDX0O",
        "colab_type": "code",
        "colab": {}
      },
      "source": [
        ""
      ],
      "execution_count": 0,
      "outputs": []
    }
  ]
}