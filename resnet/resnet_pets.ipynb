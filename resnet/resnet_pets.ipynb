{
  "nbformat": 4,
  "nbformat_minor": 0,
  "metadata": {
    "colab": {
      "name": "resnet_pets.ipynb",
      "provenance": [],
      "machine_shape": "hm"
    },
    "kernelspec": {
      "name": "python3",
      "display_name": "Python 3"
    }
  },
  "cells": [
    {
      "cell_type": "code",
      "metadata": {
        "id": "JLykwB6ghuGT",
        "colab_type": "code",
        "outputId": "4fb10b85-968d-4f29-a23f-4be6e2a1a1fb",
        "colab": {
          "base_uri": "https://localhost:8080/",
          "height": 68
        }
      },
      "source": [
        "import keras\n",
        "import numpy as np\n",
        "from keras.applications import resnet50\n",
        "from keras.preprocessing.image import load_img\n",
        "from keras.preprocessing.image import img_to_array\n",
        "from keras.applications.imagenet_utils import decode_predictions\n",
        "import matplotlib.pyplot as plt\n",
        "import numpy as np\n",
        "%matplotlib inline\n",
        "\n",
        "resnet_model = resnet50.ResNet50(weights='imagenet')"
      ],
      "execution_count": 0,
      "outputs": [
        {
          "output_type": "stream",
          "text": [
            "Using TensorFlow backend.\n"
          ],
          "name": "stderr"
        },
        {
          "output_type": "stream",
          "text": [
            "Downloading data from https://github.com/fchollet/deep-learning-models/releases/download/v0.2/resnet50_weights_tf_dim_ordering_tf_kernels.h5\n",
            "102858752/102853048 [==============================] - 1s 0us/step\n"
          ],
          "name": "stdout"
        }
      ]
    },
    {
      "cell_type": "code",
      "metadata": {
        "id": "0e45GOo8h2Lv",
        "colab_type": "code",
        "colab": {}
      },
      "source": [
        "import glob\n",
        "import numpy as np\n",
        "import pandas as pd\n",
        "import os\n",
        "import shutil \n",
        "import matplotlib.pyplot as plt\n",
        "from keras.preprocessing.image import ImageDataGenerator, load_img, img_to_array, array_to_img"
      ],
      "execution_count": 0,
      "outputs": []
    },
    {
      "cell_type": "code",
      "metadata": {
        "id": "6Sxy1BH0h4Vu",
        "colab_type": "code",
        "colab": {
          "base_uri": "https://localhost:8080/",
          "height": 34
        },
        "outputId": "b9f18c30-7035-4536-9b74-dfd0933df9e8"
      },
      "source": [
        "IMG_WIDTH=300\n",
        "IMG_HEIGHT=300\n",
        "IMG_DIM = (IMG_WIDTH, IMG_HEIGHT)\n",
        "\n",
        "validation_files = glob.glob('/content/drive/My Drive/pets/test/*')\n",
        "validation_imgs = [img_to_array(load_img(img, target_size=IMG_DIM)) for img in validation_files]\n",
        "validation_imgs = np.array(validation_imgs)\n",
        "validation_labels = [fn.split('/')[-1].split('.')[0].strip() for fn in validation_files]\n",
        "\n",
        "train_files = glob.glob('/content/drive/My Drive/pets/train/*') \n",
        "train_imgs = [img_to_array(load_img(img, target_size=IMG_DIM)) for img in train_files]\n",
        "train_imgs = np.array(train_imgs)\n",
        "train_labels = [fn.split('/')[-1].split('.')[0].strip() for fn in train_files]\n",
        "\n",
        "\n",
        "print('Train dataset shape:', train_imgs.shape, \n",
        " '\\tValidation dataset shape:', validation_imgs.shape)"
      ],
      "execution_count": 4,
      "outputs": [
        {
          "output_type": "stream",
          "text": [
            "Train dataset shape: (5900, 300, 300, 3) \tValidation dataset shape: (1463, 300, 300, 3)\n"
          ],
          "name": "stdout"
        }
      ]
    },
    {
      "cell_type": "code",
      "metadata": {
        "id": "vftn54u-iUAF",
        "colab_type": "code",
        "colab": {}
      },
      "source": [
        "train_imgs_scaled = train_imgs.astype('float32') \n",
        "validation_imgs_scaled = validation_imgs.astype('float32') \n",
        "train_imgs_scaled /= 255 \n",
        "validation_imgs_scaled /= 255 "
      ],
      "execution_count": 0,
      "outputs": []
    },
    {
      "cell_type": "code",
      "metadata": {
        "id": "05CNQKieiZ4w",
        "colab_type": "code",
        "colab": {}
      },
      "source": [
        "# encode text category labels \n",
        "from sklearn.preprocessing import LabelEncoder \n",
        " \n",
        "le = LabelEncoder() \n",
        "le.fit(train_labels) \n",
        "train_labels_enc = le.transform(train_labels) \n",
        "validation_labels_enc = le.transform(validation_labels) \n",
        " \n",
        "\n",
        "\n",
        "NUM_CLASSES = 37\n",
        "train_labels = keras.utils.to_categorical(train_labels_enc, NUM_CLASSES)\n",
        "validation_labels = keras.utils.to_categorical(validation_labels_enc, NUM_CLASSES)\n",
        "#print(train_labels[60:70], train_labels_enc[60:70])"
      ],
      "execution_count": 0,
      "outputs": []
    },
    {
      "cell_type": "code",
      "metadata": {
        "id": "GV7OTcKYicHm",
        "colab_type": "code",
        "colab": {}
      },
      "source": [
        "train_datagen = ImageDataGenerator(rescale=1./255, zoom_range=0.3, rotation_range=50,\n",
        " width_shift_range=0.2, height_shift_range=0.2, shear_range=0.2, \n",
        " horizontal_flip=True, fill_mode='nearest')\n",
        "val_datagen = ImageDataGenerator(rescale=1./255)"
      ],
      "execution_count": 0,
      "outputs": []
    },
    {
      "cell_type": "code",
      "metadata": {
        "id": "mW1ZYhVxih9l",
        "colab_type": "code",
        "colab": {}
      },
      "source": [
        "train_generator = train_datagen.flow(train_imgs, train_labels,batch_size=30)\n",
        "val_generator = val_datagen.flow(validation_imgs, validation_labels, batch_size=30)"
      ],
      "execution_count": 0,
      "outputs": []
    },
    {
      "cell_type": "code",
      "metadata": {
        "id": "9KeUuteJikJA",
        "colab_type": "code",
        "colab": {
          "base_uri": "https://localhost:8080/",
          "height": 85
        },
        "outputId": "5d1eab98-471b-40f1-e7e6-1110d17b906e"
      },
      "source": [
        "from keras.applications.resnet50 import ResNet50\n",
        "from keras.models import Model\n",
        "import keras\n",
        "restnet = ResNet50(include_top=False, weights='imagenet', input_shape=(IMG_HEIGHT,IMG_WIDTH,3))\n",
        "output = restnet.layers[-1].output\n",
        "output = keras.layers.Flatten()(output)\n",
        "restnet = Model(restnet.input, output=output)\n",
        "for layer in restnet.layers:\n",
        "    layer.trainable = False\n",
        "#restnet.summary()"
      ],
      "execution_count": 27,
      "outputs": [
        {
          "output_type": "stream",
          "text": [
            "/usr/local/lib/python3.6/dist-packages/keras_applications/resnet50.py:265: UserWarning: The output shape of `ResNet50(include_top=False)` has been changed since Keras 2.2.0.\n",
            "  warnings.warn('The output shape of `ResNet50(include_top=False)` '\n",
            "/usr/local/lib/python3.6/dist-packages/ipykernel_launcher.py:7: UserWarning: Update your `Model` call to the Keras 2 API: `Model(Tensor(\"in..., outputs=Tensor(\"fl...)`\n",
            "  import sys\n"
          ],
          "name": "stderr"
        }
      ]
    },
    {
      "cell_type": "code",
      "metadata": {
        "id": "_hx2lUlNimTt",
        "colab_type": "code",
        "colab": {
          "base_uri": "https://localhost:8080/",
          "height": 357
        },
        "outputId": "f4976f16-65b4-40f8-d4fa-ed2b6a3a5a44"
      },
      "source": [
        "from keras.layers import Conv2D, MaxPooling2D, Flatten, Dense, Dropout, InputLayer\n",
        "from keras.models import Sequential\n",
        "from keras import optimizers\n",
        "model = Sequential()\n",
        "model.add(restnet)\n",
        "model.add(Dense(512, activation='relu'))\n",
        "model.add(Dropout(0.3))\n",
        "model.add(Dense(512, activation='relu'))\n",
        "model.add(Dropout(0.3))\n",
        "model.add(Dense(37, activation='softmax'))\n",
        "\n",
        "opt=optimizers.RMSprop(lr=2e-5)\n",
        "model.compile(loss='categorical_crossentropy',\n",
        "              optimizer='adam',\n",
        "              metrics=['accuracy'])\n",
        "model.summary()"
      ],
      "execution_count": 40,
      "outputs": [
        {
          "output_type": "stream",
          "text": [
            "Model: \"sequential_8\"\n",
            "_________________________________________________________________\n",
            "Layer (type)                 Output Shape              Param #   \n",
            "=================================================================\n",
            "model_3 (Model)              (None, 204800)            23587712  \n",
            "_________________________________________________________________\n",
            "dense_22 (Dense)             (None, 512)               104858112 \n",
            "_________________________________________________________________\n",
            "dropout_15 (Dropout)         (None, 512)               0         \n",
            "_________________________________________________________________\n",
            "dense_23 (Dense)             (None, 512)               262656    \n",
            "_________________________________________________________________\n",
            "dropout_16 (Dropout)         (None, 512)               0         \n",
            "_________________________________________________________________\n",
            "dense_24 (Dense)             (None, 37)                18981     \n",
            "=================================================================\n",
            "Total params: 128,727,461\n",
            "Trainable params: 105,139,749\n",
            "Non-trainable params: 23,587,712\n",
            "_________________________________________________________________\n"
          ],
          "name": "stdout"
        }
      ]
    },
    {
      "cell_type": "code",
      "metadata": {
        "id": "3qVGvTpiioX_",
        "colab_type": "code",
        "colab": {
          "base_uri": "https://localhost:8080/",
          "height": 238
        },
        "outputId": "c0927cd8-7e59-4913-e0b7-1312e53d6489"
      },
      "source": [
        "#history = model.fit_generator(train_generator, \n",
        "#                              steps_per_epoch=20, \n",
        "#                              epochs=20,\n",
        "#                              validation_data=val_generator, \n",
        "#                              validation_steps=10, \n",
        "#                              verbose=1)\n",
        "\n",
        "\n",
        "history = model.fit(train_imgs_scaled, train_labels,\n",
        "                    epochs=10, \n",
        "                    batch_size=128,\n",
        "                    validation_data=(validation_imgs_scaled, validation_labels),\n",
        "                    shuffle=True,verbose=1)"
      ],
      "execution_count": 0,
      "outputs": [
        {
          "output_type": "stream",
          "text": [
            "Train on 5900 samples, validate on 1463 samples\n",
            "Epoch 1/10\n",
            "5900/5900 [==============================] - 1360s 231ms/step - loss: 8.1999 - accuracy: 0.1271 - val_loss: 6.1835 - val_accuracy: 0.0253\n",
            "Epoch 2/10\n",
            "5900/5900 [==============================] - 1384s 235ms/step - loss: 3.3750 - accuracy: 0.2661 - val_loss: 4.6551 - val_accuracy: 0.0253\n",
            "Epoch 3/10\n",
            "5900/5900 [==============================] - 1392s 236ms/step - loss: 3.2100 - accuracy: 0.3324 - val_loss: 3.6474 - val_accuracy: 0.0232\n",
            "Epoch 4/10\n",
            "5900/5900 [==============================] - 1385s 235ms/step - loss: 3.1197 - accuracy: 0.3708 - val_loss: 3.6131 - val_accuracy: 0.0273\n",
            "Epoch 5/10\n",
            "5900/5900 [==============================] - 1385s 235ms/step - loss: 2.8046 - accuracy: 0.3975 - val_loss: 3.6151 - val_accuracy: 0.0273\n",
            "Epoch 6/10\n",
            " 640/5900 [==>...........................] - ETA: 16:22 - loss: 2.6859 - accuracy: 0.4469"
          ],
          "name": "stdout"
        }
      ]
    },
    {
      "cell_type": "code",
      "metadata": {
        "id": "94ZSQHz7DRx0",
        "colab_type": "code",
        "colab": {
          "base_uri": "https://localhost:8080/",
          "height": 85
        },
        "outputId": "b610b29f-0754-4c31-a4ea-473a545560b1"
      },
      "source": [
        "print(train_imgs_scaled.shape)\n",
        "print(train_labels.shape)\n",
        "print(validation_imgs_scaled.shape)\n",
        "print(validation_labels.shape)"
      ],
      "execution_count": 34,
      "outputs": [
        {
          "output_type": "stream",
          "text": [
            "(5900, 300, 300, 3)\n",
            "(5900, 37)\n",
            "(1463, 300, 300, 3)\n",
            "(1463, 37)\n"
          ],
          "name": "stdout"
        }
      ]
    },
    {
      "cell_type": "code",
      "metadata": {
        "id": "do0n8asmDX0O",
        "colab_type": "code",
        "colab": {}
      },
      "source": [
        ""
      ],
      "execution_count": 0,
      "outputs": []
    }
  ]
}