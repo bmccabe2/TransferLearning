{
  "nbformat": 4,
  "nbformat_minor": 0,
  "metadata": {
    "colab": {
      "name": "resnet_mnist.ipynb",
      "provenance": []
    },
    "kernelspec": {
      "name": "python3",
      "display_name": "Python 3"
    }
  },
  "cells": [
    {
      "cell_type": "code",
      "metadata": {
        "id": "_T8OVjK4HR1L",
        "colab_type": "code",
        "outputId": "dbcaa51b-71b0-432f-fc54-b63b7937eb53",
        "colab": {
          "base_uri": "https://localhost:8080/",
          "height": 34
        }
      },
      "source": [
        "import keras\n",
        "import numpy as np\n",
        "import cv2\n",
        "from keras.applications import resnet50\n",
        "from keras.datasets import mnist\n",
        "from keras.preprocessing.image import ImageDataGenerator, load_img, img_to_array, array_to_img\n",
        "from keras.applications.imagenet_utils import decode_predictions\n",
        "from keras.models import Sequential\n",
        "from keras.layers import Dense, Dropout, Activation, Flatten, Conv2D, MaxPooling2D\n",
        "import sys\n",
        "import os"
      ],
      "execution_count": 0,
      "outputs": [
        {
          "output_type": "stream",
          "text": [
            "Using TensorFlow backend.\n"
          ],
          "name": "stderr"
        }
      ]
    },
    {
      "cell_type": "code",
      "metadata": {
        "id": "68TqDABhIm1Q",
        "colab_type": "code",
        "colab": {}
      },
      "source": [
        "IMG_SIZE = 28\n",
        "NUM_CLASSES = 10"
      ],
      "execution_count": 0,
      "outputs": []
    },
    {
      "cell_type": "code",
      "metadata": {
        "id": "ptNAdomVItW1",
        "colab_type": "code",
        "outputId": "332e20dc-5291-4588-8966-fe53ee711102",
        "colab": {
          "base_uri": "https://localhost:8080/",
          "height": 51
        }
      },
      "source": [
        "(train_images, train_labels), (test_images, test_labels) = mnist.load_data()\n",
        "\n",
        "#A Method of changin grayscale to rgb\n",
        "\n",
        "dim = (32,32)\n",
        "def to_rgb(img):\n",
        "  img = cv2.resize(img, dim, interpolation = cv2.INTER_AREA) \n",
        "  img_rgb = np.asarray(np.dstack((img, img, img)), dtype=np.uint8)\n",
        "  return img_rgb\n",
        "\n",
        "rgb_list = []\n",
        "for i in range(len(train_images)):\n",
        "  rgb = to_rgb(train_images[i])\n",
        "  rgb_list.append(rgb)\n",
        "\n",
        "rgb_arr = np.stack([rgb_list],axis=4)\n",
        "train_images = np.squeeze(rgb_arr, axis=4)\n",
        "\n",
        "rgb_list = []\n",
        "for i in range(len(test_images)):\n",
        "  rgb = to_rgb(test_images[i])\n",
        "  rgb_list.append(rgb)\n",
        "\n",
        "rgb_arr = np.stack([rgb_list],axis=4)\n",
        "test_images = np.squeeze(rgb_arr, axis=4)\n",
        "\n",
        "\n",
        "train_images = train_images.astype('float32')\n",
        "test_images = test_images.astype('float32')\n",
        "train_images = train_images / 255.0\n",
        "test_images = test_images / 255.0\n",
        "\n",
        "train_labels = keras.utils.to_categorical(train_labels, NUM_CLASSES)\n",
        "test_labels = keras.utils.to_categorical(test_labels, NUM_CLASSES)\n",
        "\n",
        "print(train_images.shape)\n",
        "print(test_images.shape)"
      ],
      "execution_count": 0,
      "outputs": [
        {
          "output_type": "stream",
          "text": [
            "(60000, 32, 32, 3)\n",
            "(10000, 32, 32, 3)\n"
          ],
          "name": "stdout"
        }
      ]
    },
    {
      "cell_type": "code",
      "metadata": {
        "id": "6DGtADlGI_eZ",
        "colab_type": "code",
        "outputId": "28b65eff-6262-4e6d-83e4-626a0da51ad3",
        "colab": {
          "base_uri": "https://localhost:8080/",
          "height": 102
        }
      },
      "source": [
        "from keras.layers import Conv2D, MaxPooling2D, Flatten, Dense, Dropout, InputLayer, UpSampling2D, BatchNormalization\n",
        "from keras.models import Sequential\n",
        "from keras import optimizers\n",
        "from keras.applications.resnet50 import ResNet50\n",
        "from keras.models import Model\n",
        "from skimage.transform import resize\n",
        "\n",
        "restnet = ResNet50(include_top=False, weights='imagenet', input_shape=(32,32,3))\n",
        "\n",
        "\n",
        "#x = restnet.output\n",
        "x = restnet.layers[-1].output\n",
        "x = Flatten()(x)\n",
        "x = BatchNormalization()(x)\n",
        "x = Dense(64, activation='relu')(x)\n",
        "x = Dropout(0.3)(x) # was .3\n",
        "x = BatchNormalization()(x)\n",
        "#x = Dense(64, activation='relu')(x) # was 128\n",
        "#x = Dropout(0.5)(x) # was .3\n",
        "#x = BatchNormalization()(x)\n",
        "prediction = Dense(NUM_CLASSES, activation='softmax')(x)\n",
        "\n",
        "model = Model(restnet.input, output=prediction)\n",
        "\n",
        "for layer in restnet.layers:\n",
        "    layer.trainable = False"
      ],
      "execution_count": 0,
      "outputs": [
        {
          "output_type": "stream",
          "text": [
            "/usr/local/lib/python3.6/dist-packages/keras_applications/resnet50.py:265: UserWarning: The output shape of `ResNet50(include_top=False)` has been changed since Keras 2.2.0.\n",
            "  warnings.warn('The output shape of `ResNet50(include_top=False)` '\n"
          ],
          "name": "stderr"
        },
        {
          "output_type": "stream",
          "text": [
            "Downloading data from https://github.com/fchollet/deep-learning-models/releases/download/v0.2/resnet50_weights_tf_dim_ordering_tf_kernels_notop.h5\n",
            "94658560/94653016 [==============================] - 1s 0us/step\n"
          ],
          "name": "stdout"
        },
        {
          "output_type": "stream",
          "text": [
            "/usr/local/lib/python3.6/dist-packages/ipykernel_launcher.py:23: UserWarning: Update your `Model` call to the Keras 2 API: `Model(Tensor(\"in..., outputs=Tensor(\"de...)`\n"
          ],
          "name": "stderr"
        }
      ]
    },
    {
      "cell_type": "code",
      "metadata": {
        "id": "mVRua9ujMWFS",
        "colab_type": "code",
        "colab": {}
      },
      "source": [
        "opt = optimizers.RMSprop(lr=2e-5)\n",
        "model.compile(loss='categorical_crossentropy',\n",
        "              optimizer='rmsprop',\n",
        "              metrics=['accuracy'])"
      ],
      "execution_count": 0,
      "outputs": []
    },
    {
      "cell_type": "code",
      "metadata": {
        "id": "8ofyBZ_0MZ06",
        "colab_type": "code",
        "outputId": "a9bc1d70-aa13-42cc-aae1-0f7d0f68e37a",
        "colab": {
          "base_uri": "https://localhost:8080/",
          "height": 374
        }
      },
      "source": [
        "history = model.fit(train_images, train_labels,\n",
        "                    epochs=10, \n",
        "                    batch_size=8,\n",
        "                    validation_data=(test_images, test_labels),\n",
        "                    shuffle=True,verbose=1)"
      ],
      "execution_count": 0,
      "outputs": [
        {
          "output_type": "stream",
          "text": [
            "Train on 60000 samples, validate on 10000 samples\n",
            "Epoch 1/10\n",
            "60000/60000 [==============================] - 528s 9ms/step - loss: 1.1176 - accuracy: 0.6322 - val_loss: 5.4060 - val_accuracy: 0.1013\n",
            "Epoch 2/10\n",
            "60000/60000 [==============================] - 528s 9ms/step - loss: 0.9838 - accuracy: 0.6758 - val_loss: 4.6498 - val_accuracy: 0.1530\n",
            "Epoch 3/10\n",
            "60000/60000 [==============================] - 545s 9ms/step - loss: 0.9514 - accuracy: 0.6892 - val_loss: 5.5568 - val_accuracy: 0.0989\n",
            "Epoch 4/10\n",
            "60000/60000 [==============================] - 537s 9ms/step - loss: 0.9397 - accuracy: 0.6926 - val_loss: 5.4136 - val_accuracy: 0.1017\n",
            "Epoch 5/10\n",
            "60000/60000 [==============================] - 552s 9ms/step - loss: 0.9334 - accuracy: 0.6954 - val_loss: 5.9586 - val_accuracy: 0.1474\n",
            "Epoch 6/10\n",
            "60000/60000 [==============================] - 561s 9ms/step - loss: 0.9272 - accuracy: 0.6982 - val_loss: 5.8597 - val_accuracy: 0.0998\n",
            "Epoch 7/10\n",
            "60000/60000 [==============================] - 548s 9ms/step - loss: 0.9244 - accuracy: 0.7025 - val_loss: 6.0485 - val_accuracy: 0.0982\n",
            "Epoch 8/10\n",
            "60000/60000 [==============================] - 549s 9ms/step - loss: 0.9113 - accuracy: 0.7040 - val_loss: 5.3415 - val_accuracy: 0.1642\n",
            "Epoch 9/10\n",
            "60000/60000 [==============================] - 550s 9ms/step - loss: 0.9127 - accuracy: 0.7022 - val_loss: 5.7591 - val_accuracy: 0.1182\n",
            "Epoch 10/10\n",
            "60000/60000 [==============================] - 675s 11ms/step - loss: 0.9173 - accuracy: 0.7008 - val_loss: 5.6258 - val_accuracy: 0.0987\n"
          ],
          "name": "stdout"
        }
      ]
    }
  ]
}