{
  "nbformat": 4,
  "nbformat_minor": 0,
  "metadata": {
    "colab": {
      "name": "resnet_cifar10.ipynb",
      "provenance": []
    },
    "kernelspec": {
      "name": "python3",
      "display_name": "Python 3"
    }
  },
  "cells": [
    {
      "cell_type": "code",
      "metadata": {
        "id": "XbklQwgkrEiX",
        "colab_type": "code",
        "outputId": "dbb5a48b-724c-4b49-f6f7-8ba24797e413",
        "colab": {
          "base_uri": "https://localhost:8080/",
          "height": 34
        }
      },
      "source": [
        "import keras\n",
        "import numpy as np\n",
        "from keras.applications import resnet50\n",
        "from keras.datasets import cifar10\n",
        "from keras.preprocessing.image import ImageDataGenerator, load_img, img_to_array, array_to_img\n",
        "from keras.applications.imagenet_utils import decode_predictions\n",
        "from keras.models import Sequential\n",
        "from keras.layers import Dense, Dropout, Activation, Flatten\n",
        "from keras.layers import Conv2D, MaxPooling2D\n",
        "import sys\n",
        "import os"
      ],
      "execution_count": 0,
      "outputs": [
        {
          "output_type": "stream",
          "text": [
            "Using TensorFlow backend.\n"
          ],
          "name": "stderr"
        }
      ]
    },
    {
      "cell_type": "code",
      "metadata": {
        "id": "ECO5aJ4FrMcS",
        "colab_type": "code",
        "colab": {}
      },
      "source": [
        "NUM_CLASSES = 10\n",
        "IMG_SIZE = 32\n",
        "PER_CORE_BATCH_SIZE = 40\n",
        "BATCH_SIZE = 16\n",
        "\n",
        "\n",
        "IMG_SHAPE = (IMG_SIZE, IMG_SIZE, 3)"
      ],
      "execution_count": 0,
      "outputs": []
    },
    {
      "cell_type": "code",
      "metadata": {
        "id": "NkxQva89rOUE",
        "colab_type": "code",
        "colab": {}
      },
      "source": [
        "(train_images, train_labels), (test_images, test_labels) = cifar10.load_data()\n",
        "train_images = train_images.astype('float32')\n",
        "test_images = test_images.astype('float32')\n",
        "train_images = train_images / 255.0\n",
        "test_images = test_images / 255.0\n",
        "\n",
        "\n",
        "train_labels = keras.utils.to_categorical(train_labels, NUM_CLASSES)\n",
        "test_labels = keras.utils.to_categorical(test_labels, NUM_CLASSES)"
      ],
      "execution_count": 0,
      "outputs": []
    },
    {
      "cell_type": "code",
      "metadata": {
        "id": "yKhfVhoirdly",
        "colab_type": "code",
        "outputId": "a8ea6fab-1da6-4535-f043-421d407625b8",
        "colab": {
          "base_uri": "https://localhost:8080/",
          "height": 68
        }
      },
      "source": [
        "from keras.layers import Conv2D, MaxPooling2D, Flatten, Dense, Dropout, InputLayer, UpSampling2D, BatchNormalization\n",
        "from keras.models import Sequential\n",
        "from keras import optimizers\n",
        "from keras.applications.resnet50 import ResNet50\n",
        "from keras.models import Model\n",
        "from skimage.transform import resize\n",
        "\n",
        "restnet = ResNet50(include_top=False, weights='imagenet', input_shape=(32,32,3))\n",
        "\n",
        "#x = restnet.output\n",
        "x = restnet.layers[-1].output\n",
        "x = Flatten()(x)\n",
        "x = BatchNormalization()(x)\n",
        "x = Dense(64, activation='relu')(x)\n",
        "x = Dropout(0.3)(x) # was .3\n",
        "x = BatchNormalization()(x)\n",
        "#x = Dense(64, activation='relu')(x) # was 128\n",
        "#x = Dropout(0.5)(x) # was .3\n",
        "#x = BatchNormalization()(x)\n",
        "prediction = Dense(NUM_CLASSES, activation='softmax')(x)\n",
        "\n",
        "model = Model(restnet.input, output=prediction)\n",
        "\n",
        "for layer in restnet.layers:\n",
        "    layer.trainable = False"
      ],
      "execution_count": 0,
      "outputs": [
        {
          "output_type": "stream",
          "text": [
            "/usr/local/lib/python3.6/dist-packages/keras_applications/resnet50.py:265: UserWarning: The output shape of `ResNet50(include_top=False)` has been changed since Keras 2.2.0.\n",
            "  warnings.warn('The output shape of `ResNet50(include_top=False)` '\n",
            "/usr/local/lib/python3.6/dist-packages/ipykernel_launcher.py:22: UserWarning: Update your `Model` call to the Keras 2 API: `Model(Tensor(\"in..., outputs=Tensor(\"de...)`\n"
          ],
          "name": "stderr"
        }
      ]
    },
    {
      "cell_type": "code",
      "metadata": {
        "id": "o2MnlCX-rhPL",
        "colab_type": "code",
        "colab": {}
      },
      "source": [
        "opt = optimizers.RMSprop(lr=2e-5)\n",
        "model.compile(loss='categorical_crossentropy',\n",
        "              optimizer='rmsprop',\n",
        "              metrics=['accuracy'])"
      ],
      "execution_count": 0,
      "outputs": []
    },
    {
      "cell_type": "code",
      "metadata": {
        "id": "sXehgeKirwr5",
        "colab_type": "code",
        "outputId": "7cd9feea-e449-4284-e9bd-90815ed20c30",
        "colab": {
          "base_uri": "https://localhost:8080/",
          "height": 68
        }
      },
      "source": [
        "history = model.fit(train_images, train_labels,\n",
        "                    epochs=10, \n",
        "                    batch_size=8,\n",
        "                    validation_data=(test_images, test_labels),\n",
        "                    shuffle=True,verbose=1)"
      ],
      "execution_count": 0,
      "outputs": [
        {
          "output_type": "stream",
          "text": [
            "Train on 50000 samples, validate on 10000 samples\n",
            "Epoch 1/10\n",
            "50000/50000 [==============================] - 452s 9ms/step - loss: 1.8645 - accuracy: 0.3406 - val_loss: 3.2252 - val_accuracy: 0.1000\n",
            "Epoch 2/10\n",
            "50000/50000 [==============================] - 471s 9ms/step - loss: 1.7361 - accuracy: 0.3860 - val_loss: 3.5774 - val_accuracy: 0.1000\n",
            "Epoch 3/10\n",
            "50000/50000 [==============================] - 472s 9ms/step - loss: 1.7159 - accuracy: 0.3971 - val_loss: 3.3234 - val_accuracy: 0.1000\n",
            "Epoch 4/10\n",
            "50000/50000 [==============================] - 474s 9ms/step - loss: 1.7105 - accuracy: 0.3969 - val_loss: 3.7212 - val_accuracy: 0.1000\n",
            "Epoch 5/10\n",
            "50000/50000 [==============================] - 494s 10ms/step - loss: 1.7040 - accuracy: 0.4000 - val_loss: 3.5485 - val_accuracy: 0.1000\n",
            "Epoch 6/10\n",
            "50000/50000 [==============================] - 482s 10ms/step - loss: 1.7025 - accuracy: 0.4028 - val_loss: 3.6721 - val_accuracy: 0.1000\n",
            "Epoch 7/10\n",
            "50000/50000 [==============================] - 485s 10ms/step - loss: 1.7019 - accuracy: 0.4005 - val_loss: 3.8398 - val_accuracy: 0.1030\n",
            "Epoch 8/10\n",
            "50000/50000 [==============================] - 498s 10ms/step - loss: 1.6958 - accuracy: 0.4029 - val_loss: 3.7595 - val_accuracy: 0.1000\n",
            "Epoch 9/10\n",
            "50000/50000 [==============================] - 468s 9ms/step - loss: 1.6935 - accuracy: 0.4077 - val_loss: 3.9768 - val_accuracy: 0.1000\n",
            "Epoch 10/10\n",
            "10056/50000 [=====>........................] - ETA: 5:02 - loss: 1.7081 - accuracy: 0.3985Buffered data was truncated after reaching the output size limit."
          ],
          "name": "stdout"
        }
      ]
    },
    {
      "cell_type": "markdown",
      "metadata": {
        "id": "ryTLCyWYFOho",
        "colab_type": "text"
      },
      "source": [
        "# Finetuned"
      ]
    }
  ]
}